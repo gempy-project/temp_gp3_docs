{
  "cells": [
    {
      "cell_type": "code",
      "execution_count": null,
      "metadata": {
        "collapsed": false
      },
      "outputs": [],
      "source": [
        "%matplotlib inline\nfrom pyvista import set_plot_theme\nset_plot_theme('document')"
      ]
    },
    {
      "cell_type": "markdown",
      "metadata": {},
      "source": [
        "\n# Getting Started\n"
      ]
    },
    {
      "cell_type": "code",
      "execution_count": null,
      "metadata": {
        "collapsed": false
      },
      "outputs": [],
      "source": [
        "# Importing GemPy and viewer\nimport gempy as gp\nimport gempy_viewer as gpv\n\n# Auxiliary libraries\nimport numpy as np\nimport matplotlib.pyplot as plt\nimport matplotlib.image as mpimg"
      ]
    },
    {
      "cell_type": "markdown",
      "metadata": {},
      "source": [
        "## Initializing the model:\n\nCreate a gempy.Model object. This object will contain all other data structures\nand necessary functionality. We'll also define a regular grid for this example.\nThis grid will be used for interpolating the 3D geological model. GemPy offers\ndifferent grids for various purposes. For visualization, a regular grid is most\nappropriate. \n\n"
      ]
    },
    {
      "cell_type": "code",
      "execution_count": null,
      "metadata": {
        "collapsed": false
      },
      "outputs": [],
      "source": [
        "geo_model: gp.data.GeoModel = gp.create_geomodel(\n    project_name='Model1',\n    extent=[0, 791, -200, 200, -582, 0],\n    resolution=[50, 50, 50],\n    refinement=4,\n    structural_frame=gp.data.StructuralFrame.initialize_default_structure()\n)\ngeo_model"
      ]
    },
    {
      "cell_type": "markdown",
      "metadata": {},
      "source": [
        "## Creating a figure:\n\nGemPy utilizes matplotlib for 2D and pyvista-vtk for 3D visualizations. \nOne design goal of GemPy is real-time model construction. This means as input data\nis added, you can see the 3D surfaces update in real-time. Let's initialize \nthe visualization windows. First, the 2D figure:\n\n"
      ]
    },
    {
      "cell_type": "code",
      "execution_count": null,
      "metadata": {
        "collapsed": false
      },
      "outputs": [],
      "source": [
        "p2d = gpv.plot_2d(geo_model)"
      ]
    },
    {
      "cell_type": "markdown",
      "metadata": {},
      "source": [
        "### Adding a model section:\n\nIn the 2D renderer, we can add several cross sections of the model. \nFor simplicity, we'll add just one, perpendicular to y.\n\n"
      ]
    },
    {
      "cell_type": "markdown",
      "metadata": {},
      "source": [
        "#### Loading a cross-section image:\n\nGemPy uses standard matplotlib axes, allowing for flexibility. \nLet's load an image showing the details of a couple of boreholes:\n\n"
      ]
    },
    {
      "cell_type": "code",
      "execution_count": null,
      "metadata": {
        "collapsed": false
      },
      "outputs": [],
      "source": [
        "img = mpimg.imread('wells.png')\np2d = gpv.plot_2d(geo_model, show=False)\np2d.axes[0].imshow(img, origin='upper', alpha=.8, extent=(0, 791, -582, 0))\nplt.show()"
      ]
    },
    {
      "cell_type": "markdown",
      "metadata": {},
      "source": [
        "Similarly, we can visualize in 3D using pyvista and vtk:\n\n"
      ]
    },
    {
      "cell_type": "code",
      "execution_count": null,
      "metadata": {
        "collapsed": false
      },
      "outputs": [],
      "source": [
        "p3d = gpv.plot_3d(geo_model, image=True)"
      ]
    },
    {
      "cell_type": "markdown",
      "metadata": {},
      "source": [
        "#### Building the model:\n\nWith everything initialized, we can begin constructing the geological model.\n\n## Surfaces:\n\nGemPy is a surface-based interpolator. All input data must be referred to a \nsurface, which marks the bottom of a unit. By default, GemPy surfaces are empty:\n\n"
      ]
    },
    {
      "cell_type": "code",
      "execution_count": null,
      "metadata": {
        "collapsed": false
      },
      "outputs": [],
      "source": [
        "geo_model.structural_frame.structural_elements"
      ]
    },
    {
      "cell_type": "markdown",
      "metadata": {},
      "source": [
        "Let's begin by adding data. GemPy input data consists of surface points and \norientations (perpendicular to the layers). The 2D plot provides X and Z \ncoordinates on mouse hover (in qt5 backend). We can add a surface point like this:\n\n"
      ]
    },
    {
      "cell_type": "code",
      "execution_count": null,
      "metadata": {
        "collapsed": false
      },
      "outputs": [],
      "source": [
        "gp.add_surface_points(\n    geo_model=geo_model,\n    x=[223],\n    y=[0.01],\n    z=[-94],\n    elements_names=['surface1']\n)\n\ngpv.plot_2d(geo_model, cell_number=11)\ngpv.plot_3d(geo_model, image=True)"
      ]
    },
    {
      "cell_type": "markdown",
      "metadata": {},
      "source": [
        "We can now add other points for the layer:\n\n"
      ]
    },
    {
      "cell_type": "code",
      "execution_count": null,
      "metadata": {
        "collapsed": false
      },
      "outputs": [],
      "source": [
        "gp.add_surface_points(\n    geo_model=geo_model,\n    x=[458, 612],\n    y=[0, 0],\n    z=[-107, -14],\n    elements_names=['surface1', 'surface1']\n)\n\ngpv.plot_2d(geo_model, cell_number=11)\ngpv.plot_3d(geo_model, image=True)"
      ]
    },
    {
      "cell_type": "markdown",
      "metadata": {},
      "source": [
        "To interpolate in gempy, the minimum data needed is:\n\n  a) 2 surface points per surface \n\n  b) One orientation per series\n\nLet's add an orientation:\n\n"
      ]
    },
    {
      "cell_type": "code",
      "execution_count": null,
      "metadata": {
        "collapsed": false
      },
      "outputs": [],
      "source": [
        "gp.add_orientations(\n    geo_model=geo_model,\n    x=[350],\n    y=[1],\n    z=[-300],\n    elements_names=['surface1'],\n    pole_vector=[[0, 0, 1]]\n)\n\ngpv.plot_2d(geo_model, cell_number=5)\ngpv.plot_3d(geo_model, image=True)"
      ]
    },
    {
      "cell_type": "markdown",
      "metadata": {},
      "source": [
        "## Update and Recompute Model Transform:\nRemoving auto anisotropy for this 2.5D model.\n\n"
      ]
    },
    {
      "cell_type": "code",
      "execution_count": null,
      "metadata": {
        "collapsed": false
      },
      "outputs": [],
      "source": [
        "geo_model.update_transform(gp.data.GlobalAnisotropy.NONE)"
      ]
    },
    {
      "cell_type": "markdown",
      "metadata": {},
      "source": [
        "## Interpolation:\nWith the provided data, we can now interpolate the 3D surface.\n\n"
      ]
    },
    {
      "cell_type": "code",
      "execution_count": null,
      "metadata": {
        "collapsed": false
      },
      "outputs": [],
      "source": [
        "gp.compute_model(geo_model, engine_config=gp.data.GemPyEngineConfig())"
      ]
    },
    {
      "cell_type": "markdown",
      "metadata": {},
      "source": [
        "Display interpolation kernel options:\n\n"
      ]
    },
    {
      "cell_type": "code",
      "execution_count": null,
      "metadata": {
        "collapsed": false
      },
      "outputs": [],
      "source": [
        "geo_model.interpolation_options.kernel_options"
      ]
    },
    {
      "cell_type": "markdown",
      "metadata": {},
      "source": [
        "## Visualization:\nInterpolated 3D surface can be visualized both in 2D and 3D.\n\n"
      ]
    },
    {
      "cell_type": "code",
      "execution_count": null,
      "metadata": {
        "collapsed": false
      },
      "outputs": [],
      "source": [
        "# 2D visualization:\ngpv.plot_2d(geo_model, cell_number=[5])\n\n# 3D visualization:\ngpv.plot_3d(geo_model, show_surfaces=True, image=True)"
      ]
    },
    {
      "cell_type": "markdown",
      "metadata": {},
      "source": [
        "## Expanding the Model with More Layers:\nOur cross-section image displays 4 layers, yet we only defined 2. Let's add two more.\n\n"
      ]
    },
    {
      "cell_type": "code",
      "execution_count": null,
      "metadata": {
        "collapsed": false
      },
      "outputs": [],
      "source": [
        "# Display current structural frame:\ngeo_model.structural_frame"
      ]
    },
    {
      "cell_type": "markdown",
      "metadata": {},
      "source": [
        "## Defining Layer 2:\nAdding points and properties for the next layer.\n\n"
      ]
    },
    {
      "cell_type": "code",
      "execution_count": null,
      "metadata": {
        "collapsed": false
      },
      "outputs": [],
      "source": [
        "element2 = gp.data.StructuralElement(\n    name='surface2',\n    color=next(geo_model.structural_frame.color_generator),\n    surface_points=gp.data.SurfacePointsTable.from_arrays(\n        x=np.array([225, 459]),\n        y=np.array([0, 0]),\n        z=np.array([-269, -279]),\n        names='surface2'\n    ),\n    orientations=gp.data.OrientationsTable.initialize_empty()\n)\n\ngeo_model.structural_frame.structural_groups[0].append_element(element2)\n\n# Compute and visualize the updated model:\ngp.compute_model(geo_model)\ngpv.plot_2d(geo_model, cell_number=5, legend='force')\ngpv.plot_3d(geo_model, image=True)"
      ]
    },
    {
      "cell_type": "markdown",
      "metadata": {},
      "source": [
        "## Defining Layer 3:\nAdding points and properties for another layer.\n\n"
      ]
    },
    {
      "cell_type": "code",
      "execution_count": null,
      "metadata": {
        "collapsed": false
      },
      "outputs": [],
      "source": [
        "element3 = gp.data.StructuralElement(\n    name='surface3',\n    color=next(geo_model.structural_frame.color_generator),\n    surface_points=gp.data.SurfacePointsTable.from_arrays(\n        x=np.array([225, 464, 619]),\n        y=np.array([0, 0, 0]),\n        z=np.array([-439, -456, -433]),\n        names='surface3'\n    ),\n    orientations=gp.data.OrientationsTable.initialize_empty()\n)\n\ngeo_model.structural_frame.structural_groups[0].append_element(element3)\n\n# Compute and visualize with adjusted parameters:\ngp.compute_model(geo_model)\ngpv.plot_2d(geo_model, cell_number=5, legend='force')\ngpv.plot_3d(geo_model, kwargs_plot_structured_grid={'opacity': .2}, image=True)"
      ]
    },
    {
      "cell_type": "markdown",
      "metadata": {},
      "source": [
        "## Adding a Fault:\nTo date, our model represents a simple depositional unit. With GemPy, we can\nincorporate unconformities and faults for more intricate models. \nRelationships are depicted as:\ninput data (surface points/ orientations) <belong to< surface <belong to< series.\nHere, we'll add a fault as a demonstration. \n\n"
      ]
    },
    {
      "cell_type": "markdown",
      "metadata": {},
      "source": [
        "Add the fault's input data:\n\n"
      ]
    },
    {
      "cell_type": "code",
      "execution_count": null,
      "metadata": {
        "collapsed": false
      },
      "outputs": [],
      "source": [
        "element_fault = gp.data.StructuralElement(\n    name='fault1',\n    color=next(geo_model.structural_frame.color_generator),\n    surface_points=gp.data.SurfacePointsTable.from_arrays(\n        x=np.array([550, 650]),\n        y=np.array([0, 0]),\n        z=np.array([-30, -200]),\n        names='fault1'\n    ),\n    orientations=gp.data.OrientationsTable.from_arrays(\n        x=np.array([600]),\n        y=np.array([0]),\n        z=np.array([-100]),\n        G_x=np.array([.3]),\n        G_y=np.array([0]),\n        G_z=np.array([.3]),\n        names='fault1'\n    )\n)\n\ngroup_fault = gp.data.StructuralGroup(\n    name='Fault1',\n    elements=[element_fault],\n    structural_relation=gp.data.StackRelationType.FAULT,\n    fault_relations=gp.data.FaultsRelationSpecialCase.OFFSET_ALL\n)\n\n# Insert the fault group into the structural frame:\ngeo_model.structural_frame.insert_group(0, group_fault)\n\n# Preview the model's input data:\ngpv.plot_2d(geo_model, show_results=False)"
      ]
    },
    {
      "cell_type": "markdown",
      "metadata": {},
      "source": [
        "Compute and visualize the updated model:\n\n"
      ]
    },
    {
      "cell_type": "code",
      "execution_count": null,
      "metadata": {
        "collapsed": false
      },
      "outputs": [],
      "source": [
        "gp.compute_model(geo_model)\ngpv.plot_2d(geo_model, cell_number=5, legend='force')\ngpv.plot_3d(geo_model, kwargs_plot_structured_grid={'opacity': .2})"
      ]
    },
    {
      "cell_type": "markdown",
      "metadata": {},
      "source": [
        "## Advanced Features:\nOver time, numerous capabilities have been integrated with GemPy. \nHere, we'll showcase a few of them.\n\n"
      ]
    },
    {
      "cell_type": "code",
      "execution_count": null,
      "metadata": {
        "collapsed": false
      },
      "outputs": [],
      "source": [
        "# Topography:\n# GemPy offers built-in tools to manage topographic data through gdal.\n# For demonstration, we'll create a random topography:\n\ngp.set_topography_from_random(\n    grid=geo_model.grid,\n    fractal_dimension=1.9,\n    d_z=np.array([-150, 0]),\n    topography_resolution=np.array([200, 200])\n)\n\n# Visualize the topography:\ngpv.plot_2d(geo_model, cell_number=5, legend='force')\ngpv.plot_3d(geo_model, kwargs_plot_structured_grid={'opacity': .2})\n\n# Calculate and visualize the area's geological map:\ngp.compute_model(geo_model)\ngpv.plot_3d(geo_model, show_topography=True)"
      ]
    },
    {
      "cell_type": "markdown",
      "metadata": {},
      "source": [
        "#### Gravity Inversion:\n\n.. admonition:: Coming soon: Gravity inversion\n\n    This feature is not yet available in the current version of GemPy.\n\n"
      ]
    },
    {
      "cell_type": "markdown",
      "metadata": {},
      "source": [
        "Assign density values to model units:\ngeo_model.add_surface_values([0, 2.6, 2.4, 3.2, 3.6], ['density'])\n\nGenerate a centered grid around a device for improved accuracy:\ngeo_model.set_centered_grid(centers=[[400, 0, 0]], resolution=[10, 10, 100], radius=800)\n\nAdjust the compile code for gravity computation:\ngp.set_interpolator(geo_model, output=['gravity'], aesara_optimizer='fast_run')\n\nBesides the interpolation, compute the model's forward gravity:\ngp.compute_model(geo_model)\ngeo_model.solutions.fw_gravity\n\nsphinx_gallery_thumbnail_number = -2\n\n"
      ]
    }
  ],
  "metadata": {
    "kernelspec": {
      "display_name": "Python 3",
      "language": "python",
      "name": "python3"
    },
    "language_info": {
      "codemirror_mode": {
        "name": "ipython",
        "version": 3
      },
      "file_extension": ".py",
      "mimetype": "text/x-python",
      "name": "python",
      "nbconvert_exporter": "python",
      "pygments_lexer": "ipython3",
      "version": "3.10.12"
    }
  },
  "nbformat": 4,
  "nbformat_minor": 0
}