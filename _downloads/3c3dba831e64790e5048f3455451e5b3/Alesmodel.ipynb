{
  "cells": [
    {
      "cell_type": "code",
      "execution_count": null,
      "metadata": {
        "collapsed": false
      },
      "outputs": [],
      "source": [
        "%matplotlib inline\nfrom pyvista import set_plot_theme\nset_plot_theme('document')"
      ]
    },
    {
      "cell_type": "markdown",
      "metadata": {},
      "source": [
        "\n# Alesmodel: Plotting sections and maps.\n\n# %%\n# .. admonition:: Explanation\n#\n#       This model is quite unstable in general and requires float64 to find a solution. The lack of data on\n#       one of the corners for the TRIAS and LIAS series makes that the model bends in an unrealistic\n#       way and erodes CARBO that disappears on that section. The easy way to solve this is to add more data in that area but\n#       I leave as it is since I did no constructed the model.\n#\n"
      ]
    },
    {
      "cell_type": "code",
      "execution_count": null,
      "metadata": {
        "collapsed": false
      },
      "outputs": [],
      "source": [
        "import gempy as gp\nimport gempy_viewer as gpv\nimport os\nimport numpy as np"
      ]
    },
    {
      "cell_type": "code",
      "execution_count": null,
      "metadata": {
        "collapsed": false
      },
      "outputs": [],
      "source": [
        "cwd = os.getcwd()\nif 'examples' not in cwd:\n    data_path = os.getcwd() + '/examples'\nelse:\n    data_path = cwd + '/../..'\n\npath_interf = data_path + \"/data/input_data/AlesModel/2018_interf.csv\"\npath_orient = data_path + \"/data/input_data/AlesModel/2018_orient_clust_n_init5_0.csv\"\npath_dem = data_path + \"/data/input_data/AlesModel/_cropped_DEM_coarse.tif\""
      ]
    },
    {
      "cell_type": "code",
      "execution_count": null,
      "metadata": {
        "collapsed": false
      },
      "outputs": [],
      "source": [
        "geo_model: gp.data.GeoModel = gp.create_geomodel(\n    project_name='Claudius',\n    extent=[729550.0, 751500.0, 1913500.0, 1923650.0, -1800.0, 800.0],\n    resolution=[100, 100, 100],\n    refinement=6,\n    importer_helper=gp.data.ImporterHelper(\n        path_to_orientations=path_orient,\n        path_to_surface_points=path_interf,\n    )\n)"
      ]
    },
    {
      "cell_type": "code",
      "execution_count": null,
      "metadata": {
        "collapsed": false
      },
      "outputs": [],
      "source": [
        "gp.set_section_grid(\n    grid=geo_model.grid,\n    section_dict={\n        'section1': ([732000, 1916000], [745000, 1916000], [200, 150])\n    }\n)"
      ]
    },
    {
      "cell_type": "markdown",
      "metadata": {},
      "source": [
        "sorting of lithologies\n\n"
      ]
    },
    {
      "cell_type": "code",
      "execution_count": null,
      "metadata": {
        "collapsed": false
      },
      "outputs": [],
      "source": [
        "gp.map_stack_to_surfaces(\n    gempy_model=geo_model,\n    mapping_object={\n        'fault_left'     : 'fault_left',\n        'fault_right'    : 'fault_right',\n        'fault_lr'       : 'fault_lr',\n        'Trias_Series'   : ('TRIAS', 'LIAS'),\n        'Carbon_Series'  : 'CARBO',\n        'Basement_Series': 'basement'\n    },\n    remove_unused_series=True\n)"
      ]
    },
    {
      "cell_type": "markdown",
      "metadata": {},
      "source": [
        "Change colors\n\n"
      ]
    },
    {
      "cell_type": "code",
      "execution_count": null,
      "metadata": {
        "collapsed": false
      },
      "outputs": [],
      "source": [
        "geo_model.structural_frame.get_element_by_name(\"LIAS\").color = \"#015482\"\ngeo_model.structural_frame.get_element_by_name(\"TRIAS\").color = \"#9f0052\"\ngeo_model.structural_frame.get_element_by_name(\"CARBO\").color = \"#ffbe00\""
      ]
    },
    {
      "cell_type": "code",
      "execution_count": null,
      "metadata": {
        "collapsed": false
      },
      "outputs": [],
      "source": [
        "a = gpv.plot_2d(geo_model, direction='y')"
      ]
    },
    {
      "cell_type": "code",
      "execution_count": null,
      "metadata": {
        "collapsed": false
      },
      "outputs": [],
      "source": [
        "gpv.plot_section_traces(geo_model)"
      ]
    },
    {
      "cell_type": "markdown",
      "metadata": {},
      "source": [
        "## Faults\n\n\n"
      ]
    },
    {
      "cell_type": "code",
      "execution_count": null,
      "metadata": {
        "collapsed": false
      },
      "outputs": [],
      "source": [
        "gp.set_is_fault(\n    frame=geo_model.structural_frame,\n    fault_groups=[\n        geo_model.structural_frame.get_group_by_name('fault_left'),\n        geo_model.structural_frame.get_group_by_name('fault_right'),\n        geo_model.structural_frame.get_group_by_name('fault_lr')\n    ],\n    change_color=True\n)"
      ]
    },
    {
      "cell_type": "markdown",
      "metadata": {},
      "source": [
        "### Topography\n\n\n"
      ]
    },
    {
      "cell_type": "code",
      "execution_count": null,
      "metadata": {
        "collapsed": false
      },
      "outputs": [],
      "source": [
        "gp.set_topography_from_file(\n    grid=geo_model.grid,\n    filepath=path_dem,\n    crop_to_extent=[729550.0, 751500.0, 1913500.0, 1923650.0]\n)\n\n\ngpv.plot_3d(geo_model, show_topography=True, ve=1, image=True)"
      ]
    },
    {
      "cell_type": "code",
      "execution_count": null,
      "metadata": {
        "collapsed": false
      },
      "outputs": [],
      "source": [
        "carbo = geo_model.structural_frame.get_group_by_name(\"Carbon_Series\")"
      ]
    },
    {
      "cell_type": "code",
      "execution_count": null,
      "metadata": {
        "collapsed": false
      },
      "outputs": [],
      "source": [
        "geo_model.interpolation_options.number_octree_levels_surface = 4\ngeo_model.interpolation_options.kernel_options.range = .8\ngp.modify_surface_points(\n    geo_model=geo_model,\n    elements_names=[\"CARBO\", \"LIAS\", \"TRIAS\"],\n    nugget=0.01\n)"
      ]
    },
    {
      "cell_type": "code",
      "execution_count": null,
      "metadata": {
        "collapsed": false
      },
      "outputs": [],
      "source": [
        "print(geo_model.structural_frame)\ngeo_model.structural_frame"
      ]
    },
    {
      "cell_type": "code",
      "execution_count": null,
      "metadata": {
        "collapsed": false
      },
      "outputs": [],
      "source": [
        "_ = gp.compute_model(\n    geo_model,\n    engine_config=gp.data.GemPyEngineConfig(\n        use_gpu=True,\n        dtype=\"float64\"\n    ))\n\n\ngpv.plot_2d(geo_model, show_topography=False, section_names=['topography'], show_lith=True)"
      ]
    },
    {
      "cell_type": "code",
      "execution_count": null,
      "metadata": {
        "collapsed": false
      },
      "outputs": [],
      "source": [
        "gpv.plot_2d(geo_model, cell_number=[4], direction=['y'], show_topography=True, show_data=True)\ngpv.plot_2d(geo_model, cell_number=[-4], direction=['y'], show_topography=True, show_data=True)"
      ]
    },
    {
      "cell_type": "markdown",
      "metadata": {},
      "source": [
        "sphinx_gallery_thumbnail_number = -1\n\n"
      ]
    },
    {
      "cell_type": "code",
      "execution_count": null,
      "metadata": {
        "collapsed": false
      },
      "outputs": [],
      "source": [
        "gpv.plot_3d(geo_model, show_lith=True, show_topography=False, kwargs_plot_structured_grid={'opacity': 0.2})"
      ]
    }
  ],
  "metadata": {
    "kernelspec": {
      "display_name": "Python 3",
      "language": "python",
      "name": "python3"
    },
    "language_info": {
      "codemirror_mode": {
        "name": "ipython",
        "version": 3
      },
      "file_extension": ".py",
      "mimetype": "text/x-python",
      "name": "python",
      "nbconvert_exporter": "python",
      "pygments_lexer": "ipython3",
      "version": "3.10.12"
    }
  },
  "nbformat": 4,
  "nbformat_minor": 0
}